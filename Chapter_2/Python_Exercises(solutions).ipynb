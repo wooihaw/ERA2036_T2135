{
 "cells": [
  {
   "cell_type": "markdown",
   "id": "b47c5f95",
   "metadata": {},
   "source": [
    "### Exercise 1\n",
    "Write a program to solve a classic puzzle: There are 35 heads and 94 legs among the chickens and rabbits in a farm. How many rabbits and how many chickens do we have? Hint: Use for loop to iterate all possible solutions."
   ]
  },
  {
   "cell_type": "code",
   "execution_count": 4,
   "id": "f574a811",
   "metadata": {},
   "outputs": [
    {
     "name": "stdout",
     "output_type": "stream",
     "text": [
      "We have 23 🐔 and 12 🐇.\n"
     ]
    }
   ],
   "source": [
    "# c -> Number of chickens\n",
    "# r -> Number of rabbits\n",
    "# c + r = 35 heads\n",
    "# 2*c + 4*r = 94 legs\n",
    "\n",
    "for c in range(36):\n",
    "    r = 35 - c\n",
    "    if 2*c + 4* r == 94:\n",
    "        print(f'We have {c} \\N{chicken} and {r} \\N{rabbit}.')"
   ]
  },
  {
   "cell_type": "markdown",
   "id": "158df725",
   "metadata": {},
   "source": [
    "### Exercise 2\n",
    "Write a program to track the growing amount of investment over time. An initial deposit, called the principal amount is made. Each year, the amount increased by a fixed percentage, called the annual rate of the return. For example, a principal amount of RM100 with an annual rate of return of 5% increases the ﬁrst year by RM5. The second year, the increase is 5% of the new amount RM105, which is RM5.25, and the new amount becomes RM110.25. The program prompts the user to enter an initial amount, an annual rate (percentage) of return, and a number of years. It then prints out the amount of investment, rounded to 2 decimal places at the end of each year for the specified number of years. A sample output from the program is shown below:  \n",
    "Initial investment: RM100, annual rate: 5%, years of investment: 4  \n",
    "Year 1: RM105.00  \n",
    "Year 2: RM110.25  \n",
    "Year 3: RM115.76  \n",
    "Year 4: RM121.55"
   ]
  },
  {
   "cell_type": "code",
   "execution_count": 6,
   "id": "02cf9a4a",
   "metadata": {},
   "outputs": [
    {
     "name": "stdout",
     "output_type": "stream",
     "text": [
      "Please enter the initial investment: 10000\n",
      "Please enter the annual rate: 6\n",
      "Please enter the year of investment: 20\n",
      "Year 1: RM10600.00\n",
      "Year 2: RM11236.00\n",
      "Year 3: RM11910.16\n",
      "Year 4: RM12624.77\n",
      "Year 5: RM13382.26\n",
      "Year 6: RM14185.19\n",
      "Year 7: RM15036.30\n",
      "Year 8: RM15938.48\n",
      "Year 9: RM16894.79\n",
      "Year 10: RM17908.48\n",
      "Year 11: RM18982.99\n",
      "Year 12: RM20121.96\n",
      "Year 13: RM21329.28\n",
      "Year 14: RM22609.04\n",
      "Year 15: RM23965.58\n",
      "Year 16: RM25403.52\n",
      "Year 17: RM26927.73\n",
      "Year 18: RM28543.39\n",
      "Year 19: RM30256.00\n",
      "Year 20: RM32071.35\n"
     ]
    }
   ],
   "source": [
    "amount = float(input(\"Please enter the initial investment: \"))\n",
    "interest = float(input(\"Please enter the annual rate: \"))\n",
    "years = int(input(\"Please enter the year of investment: \"))\n",
    "\n",
    "for i in range(years):\n",
    "    amount = amount * interest/100 + amount\n",
    "    print(f\"Year {i+1}: RM{amount:.2f}\")"
   ]
  },
  {
   "cell_type": "code",
   "execution_count": null,
   "id": "8ab78d67",
   "metadata": {},
   "outputs": [],
   "source": []
  }
 ],
 "metadata": {
  "kernelspec": {
   "display_name": "Python 3 (ipykernel)",
   "language": "python",
   "name": "python3"
  },
  "language_info": {
   "codemirror_mode": {
    "name": "ipython",
    "version": 3
   },
   "file_extension": ".py",
   "mimetype": "text/x-python",
   "name": "python",
   "nbconvert_exporter": "python",
   "pygments_lexer": "ipython3",
   "version": "3.9.7"
  }
 },
 "nbformat": 4,
 "nbformat_minor": 5
}
